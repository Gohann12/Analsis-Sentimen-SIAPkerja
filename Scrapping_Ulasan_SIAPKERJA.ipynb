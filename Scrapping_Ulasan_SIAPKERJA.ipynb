{
  "nbformat": 4,
  "nbformat_minor": 0,
  "metadata": {
    "colab": {
      "provenance": []
    },
    "kernelspec": {
      "name": "python3",
      "display_name": "Python 3"
    },
    "language_info": {
      "name": "python"
    }
  },
  "cells": [
    {
      "cell_type": "code",
      "execution_count": null,
      "metadata": {
        "id": "WI_9fOkgXEEA",
        "colab": {
          "base_uri": "https://localhost:8080/"
        },
        "outputId": "6ff5f38e-d77b-4bc8-df66-fcfc9aac44c2"
      },
      "outputs": [
        {
          "output_type": "stream",
          "name": "stdout",
          "text": [
            "Collecting google-play-scraper\n",
            "  Downloading google_play_scraper-1.2.7-py3-none-any.whl.metadata (50 kB)\n",
            "\u001b[2K     \u001b[90m━━━━━━━━━━━━━━━━━━━━━━━━━━━━━━━━━━━━━━━━\u001b[0m \u001b[32m50.2/50.2 kB\u001b[0m \u001b[31m2.6 MB/s\u001b[0m eta \u001b[36m0:00:00\u001b[0m\n",
            "\u001b[?25hDownloading google_play_scraper-1.2.7-py3-none-any.whl (28 kB)\n",
            "Installing collected packages: google-play-scraper\n",
            "Successfully installed google-play-scraper-1.2.7\n"
          ]
        }
      ],
      "source": [
        "!pip install google-play-scraper"
      ]
    },
    {
      "cell_type": "code",
      "source": [
        "# Mengimpor pustaka google_play_scraper untuk mengakses ulasan dan informasi aplikasi dari Google Play Store.\n",
        "from google_play_scraper import app, reviews, Sort, reviews_all"
      ],
      "metadata": {
        "id": "rbIJg68WXJ4Q"
      },
      "execution_count": null,
      "outputs": []
    },
    {
      "cell_type": "code",
      "source": [
        "from google_play_scraper import app, reviews_all, Sort\n",
        "import csv\n",
        "import pandas as pd\n",
        "from google.colab import drive"
      ],
      "metadata": {
        "id": "ef68zFkNJAVl"
      },
      "execution_count": null,
      "outputs": []
    },
    {
      "cell_type": "code",
      "source": [
        "scrapreview = reviews_all(\n",
        "    'id.go.kemnaker.siapkerja', # ID aplikasi\n",
        "    lang='id',             # Bahasa ulasan\n",
        "    country='id',          # Negara\n",
        "    sort=Sort.MOST_RELEVANT, # Urutan ulasan\n",
        "    count=2000            # Jumlah maksimum ulasan yang ingin diambil\n",
        ")"
      ],
      "metadata": {
        "id": "mFmSjJwtXU25"
      },
      "execution_count": null,
      "outputs": []
    },
    {
      "cell_type": "code",
      "source": [
        "drive.mount('/content/drive')"
      ],
      "metadata": {
        "id": "JBUzJNBqXZIC",
        "colab": {
          "base_uri": "https://localhost:8080/"
        },
        "outputId": "e73eb5ec-6d7e-4bfc-eabc-f5e9ee9f63f2"
      },
      "execution_count": null,
      "outputs": [
        {
          "output_type": "stream",
          "name": "stdout",
          "text": [
            "Mounted at /content/drive\n"
          ]
        }
      ]
    },
    {
      "cell_type": "code",
      "source": [
        "app_reviews_df = pd.DataFrame(scrapreview)\n",
        "app_reviews_df.to_csv('/content/drive/MyDrive/Penulisan Ilmiah/ulasan_SIAPkerja.csv', index=False) # upload ke gdrive"
      ],
      "metadata": {
        "id": "Gt0BZxfVXatt"
      },
      "execution_count": null,
      "outputs": []
    }
  ]
}